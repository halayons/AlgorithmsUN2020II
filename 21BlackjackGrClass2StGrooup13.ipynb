{
  "nbformat": 4,
  "nbformat_minor": 0,
  "metadata": {
    "kernelspec": {
      "display_name": "Python 3",
      "language": "python",
      "name": "python3"
    },
    "language_info": {
      "codemirror_mode": {
        "name": "ipython",
        "version": 3
      },
      "file_extension": ".py",
      "mimetype": "text/x-python",
      "name": "python",
      "nbconvert_exporter": "python",
      "pygments_lexer": "ipython3",
      "version": "3.8.3"
    },
    "colab": {
      "name": "21BlackjackGrClass2StGrooup13.ipynb",
      "provenance": [],
      "collapsed_sections": []
    }
  },
  "cells": [
    {
      "cell_type": "code",
      "metadata": {
        "id": "s_SvI9yymNKZ"
      },
      "source": [
        "def barajar(tipoBaraja):\n",
        "    \"\"\"\n",
        "    retorna una lista con la baraja elegida ordenada\n",
        "    \"\"\"\n",
        "\n",
        "    poker = [1,2,3,4,5,6,7,8,9,10,11,12,13,1,2,3,4,5,6,7,8,9,10,11,12,13,1,2,3,4,5,6,7,8,9,10,11,12,13,1,2,3,4,5,6,7,8,9,10,11,12,13]\n",
        "    barajaEspanola = [1,2,3,4,5,6,7,10,11,12,1,2,3,4,5,6,7,10,11,12,1,2,3,4,5,6,7,10,11,12,1,2,3,4,5,6,7,10,11,12]\n",
        "    poker_10 = [1,2,3,4,5,6,7,8,9,10,10,10,10,1,2,3,4,5,6,7,8,9,10,10,10,10,1,2,3,4,5,6,7,8,9,10,10,10,10,1,2,3,4,5,6,7,8,9,10,10,10,10]\n",
        "    barajaEspanola_10 = [1,2,3,4,5,6,7,10,10,10,1,2,3,4,5,6,7,10,10,10,1,2,3,4,5,6,7,10,10,10,1,2,3,4,5,6,7,10,10,10]\n",
        "    hot_deck=[1,1,1,1,2,2,2,2]\n",
        "    hot_deck.append(random.randint(3, 10))\n",
        "    hot_deck.append(random.randint(3, 10))\n",
        "    cold_deck=[]\n",
        "    for i in range (10):\n",
        "      cold_deck.append(random.randint(3, 10))\n",
        "    if tipoBaraja == \"barajaEspanola\":\n",
        "        return barajaEspanola\n",
        "    elif tipoBaraja == \"barajaEspanola_10\":\n",
        "        return barajaEspanola_10\n",
        "    elif tipoBaraja == \"poker_10\":\n",
        "        return poker_10\n",
        "    elif tipoBaraja == \"cold_deck_poker\":\n",
        "        return cold_deck\n",
        "    elif tipoBaraja == \"cold_deck_barajaEspanola\":\n",
        "        return cold_deck\n",
        "    elif tipoBaraja == \"hot_deck_barajaEspanola\": \n",
        "        return hot_deck\n",
        "    elif tipoBaraja == \"hot_deck_poker\":\n",
        "        return hot_deck\n",
        "    else:\n",
        "        return poker"
      ],
      "execution_count": 38,
      "outputs": []
    },
    {
      "cell_type": "code",
      "metadata": {
        "id": "xmG5oKZpmNKj"
      },
      "source": [
        "import random\n",
        "\n",
        "def partida(mazo, puntos):\n",
        "    \"\"\"\n",
        "    retorna 0 si la suma pasa de 21, si da 21 retorna el numero de cartas sacadas\n",
        "    \"\"\"\n",
        "    cartasSacadas = 0\n",
        "       \n",
        "    while puntos<21:\n",
        "      indice=random.randint(0, len(mazo)-1)\n",
        "      carta_que_sale = mazo[indice]\n",
        "      puntos=puntos + carta_que_sale\n",
        "      mazo.pop(indice)\n",
        "      cartasSacadas += 1\n",
        "    \n",
        "    if puntos == 21:\n",
        "        return cartasSacadas\n",
        "    else:\n",
        "        return 0\n",
        "         "
      ],
      "execution_count": 39,
      "outputs": []
    },
    {
      "cell_type": "code",
      "metadata": {
        "id": "J8xIqVCcmNKu"
      },
      "source": [
        "def esperimento(n, tipoBaraja):\n",
        "    \"\"\"\n",
        "    realiza n partidas  y retorna una lista con el numero de catas sacadas en cada partida\n",
        "    \"\"\"\n",
        "    histograma = []\n",
        "\n",
        "    for i in range(n):\n",
        "        baraja = barajar(tipoBaraja)\n",
        "        resultado = partida(baraja,0)\n",
        "        if (resultado!=0):\n",
        "          histograma.append(resultado)\n",
        "            \n",
        "    return histograma"
      ],
      "execution_count": 40,
      "outputs": []
    },
    {
      "cell_type": "code",
      "metadata": {
        "id": "IF55pxy8mNK1",
        "outputId": "7fcc1528-c416-419b-9c01-bfede3f7058b",
        "colab": {
          "base_uri": "https://localhost:8080/",
          "height": 332
        }
      },
      "source": [
        "# Experimento 1.1\n",
        "import matplotlib.pyplot as plt\n",
        "resultado=[]\n",
        "numeroRepeticiones = 10000000\n",
        "resultado = esperimento(numeroRepeticiones, \"poker\")\n",
        "probabilidad=(len(resultado))/numeroRepeticiones\n",
        "plt.hist(resultado,edgecolor='black',range=(1,12))\n",
        "plt.xlabel('Numero de cartas')\n",
        "plt.ylabel('Numero de partidas')\n",
        "plt.title('Experimento 1 con poker')\n",
        "promedio_cartas=0\n",
        "suma=0\n",
        "for carta in resultado:\n",
        "  suma=suma+carta\n",
        "promedio_cartas=suma/len(resultado)\n",
        "print(\"Probabilidad de 21: \",probabilidad)\n",
        "print(\"Promedio de cartas: \",promedio_cartas)"
      ],
      "execution_count": 76,
      "outputs": [
        {
          "output_type": "stream",
          "text": [
            "Probabilidad de 21:  0.1447962\n",
            "Promedio de cartas:  3.2155802431279272\n"
          ],
          "name": "stdout"
        },
        {
          "output_type": "display_data",
          "data": {
            "image/png": "[encoded data removed]",
            "text/plain": [
              "<Figure size 432x288 with 1 Axes>"
            ]
          },
          "metadata": {
            "tags": [],
            "needs_background": "light"
          }
        }
      ]
    },
    {
      "cell_type": "code",
      "metadata": {
        "id": "ZeiRhQBGmNK7",
        "outputId": "d409c299-7752-42fb-898f-d4e5a52ae260",
        "colab": {
          "base_uri": "https://localhost:8080/",
          "height": 332
        }
      },
      "source": [
        "# Experimento 1.2\n",
        "import matplotlib.pyplot as plt\n",
        "resultado=[]\n",
        "numeroRepeticiones = 10000000\n",
        "resultado = esperimento(numeroRepeticiones, \"barajaEspanola\")\n",
        "probabilidad=(len(resultado))/numeroRepeticiones\n",
        "plt.hist(resultado,edgecolor='black',range=(1,12))\n",
        "plt.xlabel('Numero de cartas')\n",
        "plt.ylabel('Numero de partidas')\n",
        "plt.title('Experimento 1 con baraja española')\n",
        "promedio_cartas=0\n",
        "suma=0\n",
        "for carta in resultado:\n",
        "  suma=suma+carta\n",
        "promedio_cartas=suma/len(resultado)\n",
        "print(\"Probabilidad de 21: \",probabilidad)\n",
        "print(\"Promedio de cartas: \",promedio_cartas)"
      ],
      "execution_count": 77,
      "outputs": [
        {
          "output_type": "stream",
          "text": [
            "Probabilidad de 21:  0.1600305\n",
            "Promedio de cartas:  3.74294337641887\n"
          ],
          "name": "stdout"
        },
        {
          "output_type": "display_data",
          "data": {
            "image/png": "[encoded data removed]",
            "text/plain": [
              "<Figure size 432x288 with 1 Axes>"
            ]
          },
          "metadata": {
            "tags": [],
            "needs_background": "light"
          }
        }
      ]
    },
    {
      "cell_type": "code",
      "metadata": {
        "id": "yGATGcn4mNLD",
        "outputId": "188e6431-1f5f-4dcc-df1c-991b367bab0a",
        "colab": {
          "base_uri": "https://localhost:8080/",
          "height": 332
        }
      },
      "source": [
        "# Experimento 2.1\n",
        "resultado=[]\n",
        "numeroRepeticiones = 10000000\n",
        "resultado = esperimento(numeroRepeticiones, \"poker_10\")\n",
        "probabilidad=(len(resultado))/numeroRepeticiones\n",
        "plt.hist(resultado,edgecolor='black',range=(1,12))\n",
        "plt.xlabel('Numero de cartas')\n",
        "plt.ylabel('Numero de partidas')\n",
        "plt.title('Experimento 2 con poker de cuatro 10')\n",
        "promedio_cartas=0\n",
        "suma=0\n",
        "for carta in resultado:\n",
        "  suma=suma+carta\n",
        "promedio_cartas=suma/len(resultado)\n",
        "print(\"Probabilidad de 21: \",probabilidad)\n",
        "print(\"Promedio de cartas: \",promedio_cartas)"
      ],
      "execution_count": 78,
      "outputs": [
        {
          "output_type": "stream",
          "text": [
            "Probabilidad de 21:  0.1402832\n",
            "Promedio de cartas:  3.5784192262508983\n"
          ],
          "name": "stdout"
        },
        {
          "output_type": "display_data",
          "data": {
            "image/png": "[encoded data removed]",
            "text/plain": [
              "<Figure size 432x288 with 1 Axes>"
            ]
          },
          "metadata": {
            "tags": [],
            "needs_background": "light"
          }
        }
      ]
    },
    {
      "cell_type": "code",
      "metadata": {
        "id": "sXfcQgfRmNLK",
        "outputId": "09440388-4f8a-4173-9982-58a12b7b4688",
        "colab": {
          "base_uri": "https://localhost:8080/",
          "height": 332
        }
      },
      "source": [
        "# Experimento 2.2\n",
        "resultado=[]\n",
        "numeroRepeticiones = 10000000\n",
        "resultado = esperimento(numeroRepeticiones, \"barajaEspanola_10\")\n",
        "probabilidad=(len(resultado))/numeroRepeticiones\n",
        "plt.hist(resultado,edgecolor='black',range=(1,12))\n",
        "plt.xlabel('Numero de cartas')\n",
        "plt.ylabel('Numero de partidas')\n",
        "plt.title('Experimento 2 con baraja española de tres 10')\n",
        "promedio_cartas=0\n",
        "suma=0\n",
        "for carta in resultado:\n",
        "  suma=suma+carta\n",
        "promedio_cartas=suma/len(resultado)\n",
        "print(\"Probabilidad de 21: \",probabilidad)\n",
        "print(\"Promedio de cartas: \",promedio_cartas)"
      ],
      "execution_count": 79,
      "outputs": [
        {
          "output_type": "stream",
          "text": [
            "Probabilidad de 21:  0.1662981\n",
            "Promedio de cartas:  3.953790813003877\n"
          ],
          "name": "stdout"
        },
        {
          "output_type": "display_data",
          "data": {
            "image/png": "[encoded data removed]",
            "text/plain": [
              "<Figure size 432x288 with 1 Axes>"
            ]
          },
          "metadata": {
            "tags": [],
            "needs_background": "light"
          }
        }
      ]
    },
    {
      "cell_type": "code",
      "metadata": {
        "id": "HL27ZW4_-ZBy"
      },
      "source": [
        "def experimento_3(deck,rango):\n",
        "  resultado=0\n",
        "  histograma=[]\n",
        "  for i in range(rango):\n",
        "    mazo=barajar(deck)\n",
        "    a=int(len(mazo)/2)\n",
        "    mazo.remove(7)\n",
        "    mazo.remove(7)\n",
        "    mazo.remove(5)\n",
        "    random.shuffle(mazo)\n",
        "    mitad_mazo=mazo[:a]\n",
        "    numero_cartas=partida(mitad_mazo,19)\n",
        "    if (numero_cartas!=0):\n",
        "      histograma.append(numero_cartas+3)\n",
        "      resultado=resultado+1\n",
        "  promedio_cartas=0\n",
        "  suma=0\n",
        "  for carta in histograma:\n",
        "    suma=suma+carta\n",
        "  promedio_cartas=suma/len(histograma)     \n",
        "  probabilidad=resultado/rango\n",
        "  return (histograma,probabilidad,promedio_cartas)\n",
        "    \n",
        "         \n"
      ],
      "execution_count": 51,
      "outputs": []
    },
    {
      "cell_type": "code",
      "metadata": {
        "id": "c7yNmbLrF34S",
        "outputId": "0265e7ca-e23f-4c64-81c0-b00310593f29",
        "colab": {
          "base_uri": "https://localhost:8080/",
          "height": 332
        }
      },
      "source": [
        "(histograma, probabilidad,promedio_cartas)=experimento_3('poker_10',10000000)\n",
        "plt.hist(histograma,edgecolor='black',range=(3,6))\n",
        "plt.xlabel('Numero de cartas')\n",
        "plt.ylabel('Numero de partidas')\n",
        "plt.title('Experimento media baraja poker cuatro 10')\n",
        "print('probabilidad = ',probabilidad)\n",
        "print(\"Promedio de cartas: \",promedio_cartas)\n"
      ],
      "execution_count": 82,
      "outputs": [
        {
          "output_type": "stream",
          "text": [
            "probabilidad =  0.0866746\n",
            "Promedio de cartas:  4.0590842069072135\n"
          ],
          "name": "stdout"
        },
        {
          "output_type": "display_data",
          "data": {
            "image/png": "[encoded data removed]",
            "text/plain": [
              "<Figure size 432x288 with 1 Axes>"
            ]
          },
          "metadata": {
            "tags": [],
            "needs_background": "light"
          }
        }
      ]
    },
    {
      "cell_type": "code",
      "metadata": {
        "id": "lTLMHQFeJ-ZD",
        "outputId": "959e7620-082d-4a7d-b282-0199aef5e218",
        "colab": {
          "base_uri": "https://localhost:8080/",
          "height": 332
        }
      },
      "source": [
        "(histograma, probabilidad,promedio_cartas)=experimento_3('barajaEspanola_10',10000000)\n",
        "plt.hist(histograma,edgecolor='black',range=(3,6))\n",
        "plt.xlabel('Numero de cartas')\n",
        "plt.ylabel('Numero de partidas')\n",
        "plt.title('Experimento media baraja baraja española tres 10')\n",
        "print('probabilidad = ',probabilidad)\n",
        "print(\"Promedio de cartas: \",promedio_cartas)\n"
      ],
      "execution_count": 83,
      "outputs": [
        {
          "output_type": "stream",
          "text": [
            "probabilidad =  0.1171161\n",
            "Promedio de cartas:  4.076962945316656\n"
          ],
          "name": "stdout"
        },
        {
          "output_type": "display_data",
          "data": {
            "image/png": "[encoded data removed]",
            "text/plain": [
              "<Figure size 432x288 with 1 Axes>"
            ]
          },
          "metadata": {
            "tags": [],
            "needs_background": "light"
          }
        }
      ]
    },
    {
      "cell_type": "code",
      "metadata": {
        "id": "LHwIB83Ddj6t"
      },
      "source": [
        "def experimento(deck,rango):\n",
        "  resultado=0\n",
        "  histograma=[]\n",
        "  for i in range(rango):\n",
        "    if deck=='hot_deck_poker' or deck=='cold_deck_poker' or deck=='hot_deck_barajaEspanola' or deck=='cold_deck_barajaEspanola':\n",
        "      puntos=19\n",
        "    else: puntos=0\n",
        "    cartasSacadas = 0\n",
        "    mazo=barajar(deck)\n",
        "    numero_cartas=partida(mazo,puntos)\n",
        "    if (numero_cartas!=0):\n",
        "      histograma.append(numero_cartas+3)\n",
        "      resultado=resultado+1\n",
        "      \n",
        "  probabilidad=resultado/rango\n",
        "  return (histograma, resultado,probabilidad)\n",
        " "
      ],
      "execution_count": 84,
      "outputs": []
    },
    {
      "cell_type": "code",
      "metadata": {
        "id": "MYlGsWBgdsIa",
        "outputId": "02b3427a-81ad-4bf8-fe0a-47df384fe5ed",
        "colab": {
          "base_uri": "https://localhost:8080/",
          "height": 332
        }
      },
      "source": [
        "#Experimento 4.1a\n",
        "(histograma, resultado,probabilidad)=experimento('hot_deck_poker',10000000)\n",
        "promedio_cartas=0\n",
        "suma=0\n",
        "for carta in histograma:\n",
        "  suma=suma+carta\n",
        "  promedio_cartas=suma/len(histograma)\n",
        "plt.hist(histograma,edgecolor='black',range=(3,6))\n",
        "plt.xlabel('Numero de cartas')\n",
        "plt.ylabel('Numero de partidas')\n",
        "plt.title('Experimento hot deck poker cuatro 10')\n",
        "print('probabilidad = ',probabilidad)\n",
        "print(\"Promedio de cartas: \",promedio_cartas)\n"
      ],
      "execution_count": 85,
      "outputs": [
        {
          "output_type": "stream",
          "text": [
            "probabilidad =  0.5333686\n",
            "Promedio de cartas:  4.250020904867665\n"
          ],
          "name": "stdout"
        },
        {
          "output_type": "display_data",
          "data": {
            "image/png": "[encoded data removed]",
            "text/plain": [
              "<Figure size 432x288 with 1 Axes>"
            ]
          },
          "metadata": {
            "tags": [],
            "needs_background": "light"
          }
        }
      ]
    },
    {
      "cell_type": "code",
      "metadata": {
        "id": "TgZMySi2IbRZ",
        "outputId": "6245bfcd-ca83-4887-b38b-8ef9d8d32489",
        "colab": {
          "base_uri": "https://localhost:8080/",
          "height": 332
        }
      },
      "source": [
        "#Experimento 4.1b\n",
        "(histograma, resultado,probabilidad)=experimento('hot_deck_barajaEspanola',10000000)\n",
        "promedio_cartas=0\n",
        "suma=0\n",
        "for carta in histograma:\n",
        "  suma=suma+carta\n",
        "  promedio_cartas=suma/len(histograma)\n",
        "plt.hist(histograma,edgecolor='black',range=(3,6))\n",
        "plt.xlabel('Numero de cartas')\n",
        "plt.ylabel('Numero de partidas')\n",
        "plt.title('Experimento hot deck baraja española tres 10')\n",
        "print('probabilidad = ',probabilidad)\n",
        "print(\"Promedio de cartas: \",promedio_cartas)\n"
      ],
      "execution_count": 88,
      "outputs": [
        {
          "output_type": "stream",
          "text": [
            "probabilidad =  0.5334281\n",
            "Promedio de cartas:  4.250063504341073\n"
          ],
          "name": "stdout"
        },
        {
          "output_type": "display_data",
          "data": {
            "image/png": "[encoded data removed]",
            "text/plain": [
              "<Figure size 432x288 with 1 Axes>"
            ]
          },
          "metadata": {
            "tags": [],
            "needs_background": "light"
          }
        }
      ]
    },
    {
      "cell_type": "code",
      "metadata": {
        "id": "qyR9rZ8TdxBs",
        "outputId": "92653394-a104-445a-97fb-45b5b4d0ad09",
        "colab": {
          "base_uri": "https://localhost:8080/",
          "height": 35
        }
      },
      "source": [
        "# Experimento 4.1c\n",
        "(histograma, resultado,probabilidad)=experimento('cold_deck_poker',10000000)\n",
        "print('probabilidad = ',probabilidad)"
      ],
      "execution_count": 89,
      "outputs": [
        {
          "output_type": "stream",
          "text": [
            "probabilidad =  0.0\n"
          ],
          "name": "stdout"
        }
      ]
    },
    {
      "cell_type": "code",
      "metadata": {
        "id": "2smfZ3WvPFd9",
        "outputId": "4d047fc8-013f-4094-d9ab-af23dbe3fb88",
        "colab": {
          "base_uri": "https://localhost:8080/",
          "height": 35
        }
      },
      "source": [
        "# Experimento 4.1d\n",
        "(histograma, resultado,probabilidad)=experimento('cold_deck_barajaEspanola',10000000)\n",
        "print('probabilidad = ',probabilidad)"
      ],
      "execution_count": 90,
      "outputs": [
        {
          "output_type": "stream",
          "text": [
            "probabilidad =  0.0\n"
          ],
          "name": "stdout"
        }
      ]
    },
    {
      "cell_type": "code",
      "metadata": {
        "id": "Q8UvuZDbRQ7A",
        "outputId": "5194d1c2-61ee-4182-f41b-78909fafea77",
        "colab": {
          "base_uri": "https://localhost:8080/",
          "height": 313
        }
      },
      "source": [
        "# Experimento 5 con poker\n",
        "gano_acumulado=0\n",
        "perdio_acumulado=0\n",
        "rango=10000\n",
        "for i in range(rango):\n",
        "  (histograma_1,resultado,probabilidad)=experimento('hot_deck_poker',60)\n",
        "  gano_hot=resultado*1000\n",
        "  perdio_hot=(60-resultado)*1000\n",
        "  (histograma_2,resultado,probabilidad)=experimento('poker_10',540)\n",
        "  gano_cold=resultado*10\n",
        "  perdio_cold=(540-resultado)*10\n",
        "  gano=gano_hot+gano_cold\n",
        "  perdio=perdio_hot+perdio_cold\n",
        "  gano_acumulado=gano_acumulado+gano\n",
        "  perdio_acumulado=perdio_acumulado+perdio\n",
        "  \n",
        "histograma_3=histograma_1+histograma_2\n",
        "plt.hist(histograma_3,edgecolor='black',range=(1,12))\n",
        "plt.xlabel('Numero de cartas')\n",
        "plt.ylabel('Numero de partidas')\n",
        "plt.title('Experimento fin de semana poker cuatro 10')\n",
        "  \n",
        "gano_promedio = gano_acumulado/rango\n",
        "perdio_promedio = perdio_acumulado/rango\n",
        "print('ganancia_promedio_finSemana=',gano_promedio-perdio_promedio)\n"
      ],
      "execution_count": 93,
      "outputs": [
        {
          "output_type": "stream",
          "text": [
            "ganancia_promedio_finSemana= 98.27999999999884\n"
          ],
          "name": "stdout"
        },
        {
          "output_type": "display_data",
          "data": {
            "image/png": "[encoded data removed]",
            "text/plain": [
              "<Figure size 432x288 with 1 Axes>"
            ]
          },
          "metadata": {
            "tags": [],
            "needs_background": "light"
          }
        }
      ]
    },
    {
      "cell_type": "code",
      "metadata": {
        "id": "iYc7KF8qzSzB",
        "outputId": "439d5f37-4d5d-4396-dbf1-5e6157d70789",
        "colab": {
          "base_uri": "https://localhost:8080/",
          "height": 313
        }
      },
      "source": [
        "# Experimento 5 con Baraja española\n",
        "gano_acumulado=0\n",
        "perdio_acumulado=0\n",
        "rango=10000\n",
        "for i in range(rango):\n",
        "  (histograma_1,resultado,probabilidad)=experimento('hot_deck_barajaEspanola',60)\n",
        "  gano_hot=resultado*1000\n",
        "  perdio_hot=(60-resultado)*1000\n",
        "  (histograma_2,resultado,probabilidad)=experimento('barajaEspanola_10',540)\n",
        "  gano_cold=resultado*10\n",
        "  perdio_cold=(540-resultado)*10\n",
        "  gano=gano_hot+gano_cold\n",
        "  perdio=perdio_hot+perdio_cold\n",
        "  gano_acumulado=gano_acumulado+gano\n",
        "  perdio_acumulado=perdio_acumulado+perdio\n",
        "  \n",
        "histograma_3=histograma_1+histograma_2\n",
        "plt.hist(histograma_3,edgecolor='black',range=(1,12))\n",
        "plt.xlabel('Numero de cartas')\n",
        "plt.ylabel('Numero de partidas')\n",
        "plt.title('Experimento fin de semana baraja española tres 10')\n",
        "  \n",
        "gano_promedio = gano_acumulado/rango\n",
        "perdio_promedio = perdio_acumulado/rango\n",
        "print('ganancia_promedio_finSemana=',gano_promedio-perdio_promedio)"
      ],
      "execution_count": 92,
      "outputs": [
        {
          "output_type": "stream",
          "text": [
            "ganancia_promedio_finSemana= 452.11199999999735\n"
          ],
          "name": "stdout"
        },
        {
          "output_type": "display_data",
          "data": {
            "image/png": "[encoded data removed]",
            "text/plain": [
              "<Figure size 432x288 with 1 Axes>"
            ]
          },
          "metadata": {
            "tags": [],
            "needs_background": "light"
          }
        }
      ]
    },
    {
      "cell_type": "code",
      "metadata": {
        "id": "kTK3I8-8DIvd",
        "outputId": "0808815b-7a68-4187-a56b-ec6d639ab4d8",
        "colab": {
          "base_uri": "https://localhost:8080/",
          "height": 72
        }
      },
      "source": [
        "# PUNTO 6a\n",
        "\n",
        "#calculo analitico de la ganancia o perdida en un fin de semana con poker de cuatro 10\n",
        "numero_juegos=((10*60)*3)/3                     #numero de veces que juega en todo el fin de semana\n",
        "#1/10 es la probabilidad de obtener un hot deck, 8/15 es la probabilidad de ganar con un hot deck\n",
        "#9/10 es la probabilidad de obtener un cold deck, 0.1402832 es la probabilidad experimental de ganar con un mazo \n",
        "#completo de poker con cuatro 10 \n",
        "gano_analitico=((600*(1/10)*(8/15))*1000)+((600*(9/10)*0.1402832)*10) \n",
        "print('gano_fin_semana',gano_analitico)\n",
        "perdio_analitico=60*1000+540*10-gano_analitico\n",
        "print('perdio_fin_semana',perdio_analitico)\n",
        "total=gano_analitico-perdio_analitico\n",
        "print('ganancia_total',total)"
      ],
      "execution_count": 96,
      "outputs": [
        {
          "output_type": "stream",
          "text": [
            "gano_fin_semana 32757.52928\n",
            "perdio_fin_semana 32642.47072\n",
            "ganancia_total 115.05855999999767\n"
          ],
          "name": "stdout"
        }
      ]
    },
    {
      "cell_type": "code",
      "metadata": {
        "id": "idhVVBlqMnMc",
        "outputId": "22eeed70-bd58-47dd-b26e-49040b704e74",
        "colab": {
          "base_uri": "https://localhost:8080/",
          "height": 72
        }
      },
      "source": [
        "# PUNTO 6a\n",
        "\n",
        "#calculo analitico de la ganancia o perdida en un fin de semana con baraja española de tres 10\n",
        "numero_juegos=((10*60)*3)/3                    #numero de veces que juega en todo el fin de semana\n",
        "#1/10 es la probabilidad de obtener un hot deck, 8/15 es la probabilidad de ganar con un hot deck\n",
        "#9/10 es la probabilidad de obtener un cold deck, 0.1662981 es la probabilidad experimental de ganar con un mazo \n",
        "#completo de baraja española con tres 10 \n",
        "gano_analitico=((600*(1/10)*(8/15))*1000)+((600*(9/10)*0.1662981)*10)\n",
        "print('gano_fin_semana',gano_analitico)\n",
        "perdio_analitico=60*1000+540*10-gano_analitico\n",
        "print('perdio_fin_semana',perdio_analitico)\n",
        "total=gano_analitico-perdio_analitico\n",
        "print('ganancia_total',total)"
      ],
      "execution_count": 97,
      "outputs": [
        {
          "output_type": "stream",
          "text": [
            "gano_fin_semana 32898.00974\n",
            "perdio_fin_semana 32501.99026\n",
            "ganancia_total 396.01948000000266\n"
          ],
          "name": "stdout"
        }
      ]
    },
    {
      "cell_type": "code",
      "metadata": {
        "id": "asaXygfPdSsM",
        "outputId": "441adefb-d7a9-4d13-fb18-8510c85116f7",
        "colab": {
          "base_uri": "https://localhost:8080/",
          "height": 35
        }
      },
      "source": [
        "#PUNTO 7a\n",
        "\n",
        "#probabilidad de tener [7,7,5]y un hot deck de 12, 10, 8 en baraja de porker con cuatro 10\n",
        "probabilidad=(4/52)*(4/51)*(4/50)*((4/49)+(3/48)+(2/47)+(1/46))*((4/45)+(3/44)+(2/43)+(1/42))*(1)*(1)*(1)*(1)\n",
        "print(probabilidad)\n"
      ],
      "execution_count": 98,
      "outputs": [
        {
          "output_type": "stream",
          "text": [
            "2.2875000895131348e-05\n"
          ],
          "name": "stdout"
        }
      ]
    },
    {
      "cell_type": "code",
      "metadata": {
        "id": "vnRlIuV9ef-1",
        "outputId": "9c7d6323-3b1f-4b57-e10c-4a36c361ec1d",
        "colab": {
          "base_uri": "https://localhost:8080/",
          "height": 35
        }
      },
      "source": [
        "#PUNTO 7b\n",
        "\n",
        "#probabilidad de tener [7,7,5]y un hot deck de 12, 10 y 8 en baraja española con tres 10\n",
        "probabilidad=(4/48)*(4/47)*(4/46)*((4/45)+(3/44)+(2/43)+(1/42))*((4/41)+(3/40)+(2/39)+(1/38))*(1)*(1)*(1)*(1)\n",
        "print(probabilidad)"
      ],
      "execution_count": 99,
      "outputs": [
        {
          "output_type": "stream",
          "text": [
            "3.508114600392035e-05\n"
          ],
          "name": "stdout"
        }
      ]
    }
  ]
}