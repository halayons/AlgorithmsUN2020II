{
  "nbformat": 4,
  "nbformat_minor": 0,
  "metadata": {
    "kernelspec": {
      "display_name": "Python 3",
      "language": "python",
      "name": "python3"
    },
    "language_info": {
      "codemirror_mode": {
        "name": "ipython",
        "version": 3
      },
      "file_extension": ".py",
      "mimetype": "text/x-python",
      "name": "python",
      "nbconvert_exporter": "python",
      "pygments_lexer": "ipython3",
      "version": "3.8.3"
    },
    "colab": {
      "name": "grupo13laboratorio4.ipynb",
      "provenance": []
    }
  },
  "cells": [
    {
      "cell_type": "code",
      "metadata": {
        "id": "s_SvI9yymNKZ",
        "colab_type": "code",
        "colab": {}
      },
      "source": [
        "def barajar(tipoBaraja):\n",
        "    \"\"\"\n",
        "    retorna una lista con la baraja elegida ordenada, barajar es equivalente a sacar una carta de\n",
        "    posicion aleatoria en una lista ordenada\n",
        "    \"\"\"\n",
        "\n",
        "    poker = [1,2,3,4,5,6,7,8,9,10,11,12,13,1,2,3,4,5,6,7,8,9,10,11,12,13,1,2,3,4,5,6,7,8,9,10,11,12,13,1,2,3,4,5,6,7,8,9,10,11,12,13]\n",
        "    barajaEspanola = [1,2,3,4,5,6,7,10,11,12,1,2,3,4,5,6,7,10,11,12,1,2,3,4,5,6,7,10,11,12,1,2,3,4,5,6,7,10,11,12]\n",
        "    poker_m = [1,2,3,4,5,6,7,8,9,10,10,10,10,1,2,3,4,5,6,7,8,9,10,10,10,10,1,2,3,4,5,6,7,8,9,10,10,10,10,1,2,3,4,5,6,7,8,9,10,10,10,10]\n",
        "    barajaEspanola_m = [1,2,3,4,5,6,7,10,10,10,1,2,3,4,5,6,7,10,10,10,1,2,3,4,5,6,7,10,10,10,1,2,3,4,5,6,7,10,10,10]\n",
        "    \n",
        "    if tipoBaraja == \"barajaEspanola\":\n",
        "        return barajaEspanola\n",
        "    elif tipoBaraja == \"barajaEspanola_m\":\n",
        "        return barajaEspanola_m\n",
        "    elif tipoBaraja == \"poker_m\":\n",
        "        return poker_m\n",
        "    else:\n",
        "        return poker"
      ],
      "execution_count": 2,
      "outputs": []
    },
    {
      "cell_type": "code",
      "metadata": {
        "id": "xmG5oKZpmNKj",
        "colab_type": "code",
        "colab": {}
      },
      "source": [
        "from random import randrange\n",
        "\n",
        "def partida(mazo):\n",
        "    \"\"\"\n",
        "    retorna 0 si la suma pasa de 21, si da 21 retorna el numero de cartas sacadas\n",
        "    \"\"\"\n",
        "    puntos = 0\n",
        "    cartasSacadas = 0\n",
        "    \n",
        "    while puntos < 21 :\n",
        "        carta = randrange(len(mazo))\n",
        "        puntos += mazo[carta]\n",
        "        cartasSacadas +=1\n",
        "        mazo.pop(carta)\n",
        "    \n",
        "    if puntos == 21:\n",
        "        return cartasSacadas\n",
        "    else:\n",
        "        return 0"
      ],
      "execution_count": 3,
      "outputs": []
    },
    {
      "cell_type": "code",
      "metadata": {
        "id": "J8xIqVCcmNKu",
        "colab_type": "code",
        "colab": {}
      },
      "source": [
        "def esperimento(n, tipoBaraja):\n",
        "    \"\"\"\n",
        "    realiza n partidas  y retorna una lista con las veces que salieron 21 \n",
        "    para cada numero de cartas correspondiente representadas por la posicion de la lista\n",
        "    \"\"\"\n",
        "    # la lista tiene 11 posiciones porque no se puede lograr 21 con mas de 11\n",
        "    acumulado = [0,0,0,0,0,0,0,0,0,0]\n",
        "\n",
        "    for i in range(n):\n",
        "        baraja = barajar(tipoBaraja)\n",
        "        resultado = partida(baraja)\n",
        "\n",
        "        if resultado != 0 :\n",
        "            acumulado[resultado] += 1\n",
        "            \n",
        "    return acumulado"
      ],
      "execution_count": 4,
      "outputs": []
    },
    {
      "cell_type": "code",
      "metadata": {
        "id": "IF55pxy8mNK1",
        "colab_type": "code",
        "colab": {
          "base_uri": "https://localhost:8080/",
          "height": 296
        },
        "outputId": "196751bf-ed99-4677-debd-04b8087efb09"
      },
      "source": [
        "# Experimento 1.1\n",
        "import matplotlib.pyplot as plt\n",
        "\n",
        "numeroRepeticiones = 10000\n",
        "resultado  = esperimento(numeroRepeticiones, \"poker\")\n",
        "\n",
        "plt.bar(range(len(resultado)), resultado, width = 1 )\n",
        "plt.xlabel(\"Cartas Sacadas\")\n",
        "plt.ylabel(\"Aciertos\")\n",
        "\n",
        "suma = 0\n",
        "for i in range(len(resultado)):\n",
        "    resultado[i] /= numeroRepeticiones\n",
        "    suma += resultado[i]\n",
        "print(\"Probabilidad de 21: \",suma)"
      ],
      "execution_count": 5,
      "outputs": [
        {
          "output_type": "stream",
          "text": [
            "Probabilidad de 21:  0.14540000000000003\n"
          ],
          "name": "stdout"
        },
        {
          "output_type": "display_data",
          "data": {
            "image/png": "[encoded data removed]",
            "text/plain": [
              "<Figure size 432x288 with 1 Axes>"
            ]
          },
          "metadata": {
            "tags": [],
            "needs_background": "light"
          }
        }
      ]
    },
    {
      "cell_type": "code",
      "metadata": {
        "id": "ZeiRhQBGmNK7",
        "colab_type": "code",
        "colab": {
          "base_uri": "https://localhost:8080/",
          "height": 296
        },
        "outputId": "0f215c78-b2d3-4149-ff59-8f42e874eab5"
      },
      "source": [
        "# Experimento 1.2\n",
        "import matplotlib.pyplot as plt\n",
        "\n",
        "numeroRepeticiones = 10000\n",
        "resultado  = esperimento(numeroRepeticiones, \"barajaEspanola\")\n",
        "\n",
        "plt.bar(range(len(resultado)), resultado, width = 1 )\n",
        "plt.xlabel(\"Cartas Sacadas\")\n",
        "plt.ylabel(\"Aciertos\")\n",
        "\n",
        "suma = 0\n",
        "for i in range(len(resultado)):\n",
        "    resultado[i] /= numeroRepeticiones\n",
        "    suma += resultado[i]\n",
        "print(\"Probabilidad de 21: \",suma)"
      ],
      "execution_count": 6,
      "outputs": [
        {
          "output_type": "stream",
          "text": [
            "Probabilidad de 21:  0.1631\n"
          ],
          "name": "stdout"
        },
        {
          "output_type": "display_data",
          "data": {
            "image/png": "[encoded data removed]",
            "text/plain": [
              "<Figure size 432x288 with 1 Axes>"
            ]
          },
          "metadata": {
            "tags": [],
            "needs_background": "light"
          }
        }
      ]
    },
    {
      "cell_type": "code",
      "metadata": {
        "id": "yGATGcn4mNLD",
        "colab_type": "code",
        "colab": {
          "base_uri": "https://localhost:8080/",
          "height": 298
        },
        "outputId": "a4b30843-ccb6-46d4-f89c-cdceefa8bb25"
      },
      "source": [
        "# Experimento 2.1\n",
        "import matplotlib.pyplot as plt\n",
        "\n",
        "numeroRepeticiones = 10000\n",
        "resultado  = esperimento(numeroRepeticiones, \"poker_m\")\n",
        "\n",
        "plt.bar(range(len(resultado)), resultado, width = 1 )\n",
        "plt.xlabel(\"Cartas Sacadas\")\n",
        "plt.ylabel(\"Aciertos\")\n",
        "\n",
        "suma = 0\n",
        "for i in range(len(resultado)):\n",
        "    resultado[i] /= numeroRepeticiones\n",
        "    suma += resultado[i]\n",
        "print(\"Probabilidad de 21: \",suma)"
      ],
      "execution_count": 7,
      "outputs": [
        {
          "output_type": "stream",
          "text": [
            "Probabilidad de 21:  0.13709999999999997\n"
          ],
          "name": "stdout"
        },
        {
          "output_type": "display_data",
          "data": {
            "image/png": "[encoded data removed]",
            "text/plain": [
              "<Figure size 432x288 with 1 Axes>"
            ]
          },
          "metadata": {
            "tags": [],
            "needs_background": "light"
          }
        }
      ]
    },
    {
      "cell_type": "code",
      "metadata": {
        "id": "sXfcQgfRmNLK",
        "colab_type": "code",
        "colab": {
          "base_uri": "https://localhost:8080/",
          "height": 296
        },
        "outputId": "f08c307f-ccd4-4485-9fd4-51d16716bf95"
      },
      "source": [
        "# Experimento 2.2\n",
        "import matplotlib.pyplot as plt\n",
        "\n",
        "numeroRepeticiones = 10000\n",
        "resultado  = esperimento(numeroRepeticiones, \"barajaEspanola_m\")\n",
        "\n",
        "plt.bar(range(len(resultado)), resultado, width = 1 )\n",
        "plt.xlabel(\"Cartas Sacadas\")\n",
        "plt.ylabel(\"Aciertos\")\n",
        "\n",
        "suma = 0\n",
        "for i in range(len(resultado)):\n",
        "    resultado[i] /= numeroRepeticiones\n",
        "    suma += resultado[i]\n",
        "print(\"Probabilidad de 21: \",suma)"
      ],
      "execution_count": 8,
      "outputs": [
        {
          "output_type": "stream",
          "text": [
            "Probabilidad de 21:  0.16190000000000002\n"
          ],
          "name": "stdout"
        },
        {
          "output_type": "display_data",
          "data": {
            "image/png": "[encoded data removed]",
            "text/plain": [
              "<Figure size 432x288 with 1 Axes>"
            ]
          },
          "metadata": {
            "tags": [],
            "needs_background": "light"
          }
        }
      ]
    },
    {
      "cell_type": "code",
      "metadata": {
        "id": "HL27ZW4_-ZBy",
        "colab_type": "code",
        "colab": {}
      },
      "source": [
        "def experimento_3(deck,rango):\n",
        "  resultado=0\n",
        "  histograma=[]\n",
        "  for i in range(rango):\n",
        "    mazo=barajar(deck)\n",
        "    mazo.remove(7)\n",
        "    mazo.remove(7)\n",
        "    mazo.remove(5)\n",
        "    random.shuffle(mazo)\n",
        "    a=int(len(mazo)/2)\n",
        "    mitad_mazo=mazo[:a]\n",
        "    puntos=19\n",
        "    cartasSacadas = 0\n",
        "    while puntos<=21:\n",
        "      carta_que_sale = mitad_mazo[0]\n",
        "      puntos=puntos + carta_que_sale\n",
        "      mitad_mazo.pop(0)\n",
        "      cartasSacadas += 1\n",
        "      if puntos >=21:\n",
        "        break\n",
        "    if puntos == 21:\n",
        "      resultado=resultado+1\n",
        "      histograma.append(cartasSacadas)\n",
        "       \n",
        "  probabilidad=resultado/rango\n",
        "  return (histograma,probabilidad)\n",
        "\n",
        "    "
      ],
      "execution_count": 57,
      "outputs": []
    },
    {
      "cell_type": "code",
      "metadata": {
        "id": "c7yNmbLrF34S",
        "colab_type": "code",
        "colab": {
          "base_uri": "https://localhost:8080/",
          "height": 335
        },
        "outputId": "b9730496-b7de-477c-8d2b-050e5231e0da"
      },
      "source": [
        "(histograma, probabilidad)=experimento_3('poker_m',10000)\n",
        "print('probabilidad = ',probabilidad)\n",
        "plt.hist(histograma)"
      ],
      "execution_count": 60,
      "outputs": [
        {
          "output_type": "stream",
          "text": [
            "probabilidad =  0.0842\n"
          ],
          "name": "stdout"
        },
        {
          "output_type": "execute_result",
          "data": {
            "text/plain": [
              "(array([800.,   0.,   0.,   0.,   0.,   0.,   0.,   0.,   0.,  42.]),\n",
              " array([1. , 1.1, 1.2, 1.3, 1.4, 1.5, 1.6, 1.7, 1.8, 1.9, 2. ]),\n",
              " <a list of 10 Patch objects>)"
            ]
          },
          "metadata": {
            "tags": []
          },
          "execution_count": 60
        },
        {
          "output_type": "display_data",
          "data": {
            "image/png": "[encoded data removed]",
            "text/plain": [
              "<Figure size 432x288 with 1 Axes>"
            ]
          },
          "metadata": {
            "tags": [],
            "needs_background": "light"
          }
        }
      ]
    },
    {
      "cell_type": "code",
      "metadata": {
        "id": "lTLMHQFeJ-ZD",
        "colab_type": "code",
        "colab": {
          "base_uri": "https://localhost:8080/",
          "height": 353
        },
        "outputId": "0acec269-ca28-4029-f7a1-05bae59433cd"
      },
      "source": [
        "(histograma, probabilidad)=experimento_3('barajaEspanola',10000)\n",
        "print('probabilidad = ',probabilidad)\n",
        "plt.hist(histograma)"
      ],
      "execution_count": 59,
      "outputs": [
        {
          "output_type": "stream",
          "text": [
            "probabilidad =  0.1194\n"
          ],
          "name": "stdout"
        },
        {
          "output_type": "execute_result",
          "data": {
            "text/plain": [
              "(array([1121.,    0.,    0.,    0.,    0.,    0.,    0.,    0.,    0.,\n",
              "          73.]),\n",
              " array([1. , 1.1, 1.2, 1.3, 1.4, 1.5, 1.6, 1.7, 1.8, 1.9, 2. ]),\n",
              " <a list of 10 Patch objects>)"
            ]
          },
          "metadata": {
            "tags": []
          },
          "execution_count": 59
        },
        {
          "output_type": "display_data",
          "data": {
            "image/png": "[encoded data removed]",
            "text/plain": [
              "<Figure size 432x288 with 1 Axes>"
            ]
          },
          "metadata": {
            "tags": [],
            "needs_background": "light"
          }
        }
      ]
    },
    {
      "cell_type": "code",
      "metadata": {
        "id": "gajEqzEgdiF9",
        "colab_type": "code",
        "colab": {}
      },
      "source": [
        "# Experimento 4\n",
        "# La probabilidad calculada analiticamente para el hot_deck es  8/15 o 0.533333 y para el cold_deck es 0\n",
        "import matplotlib.pyplot as plt\n",
        "import random\n",
        "\n",
        "def inicializar (mazo):\n",
        "  hot_deck=[1,1,1,1,2,2,2,2,3,3]\n",
        "  cold_deck=[4,10,6,10,4,10,6,10,4,3]\n",
        "  cold_poker = [1,2,3,4,5,6,7,8,9,10,10,10,10,1,2,3,4,5,6,7,8,9,10,10,10,10,1,2,3,4,5,6,7,8,9,10,10,10,10,1,2,3,4,5,6,7,8,9,10,10,10,10]\n",
        "  cold_barajaEspanola = [1,2,3,4,5,6,7,10,10,10,1,2,3,4,5,6,7,10,10,10,1,2,3,4,5,6,7,10,10,10,1,2,3,4,5,6,7,10,10,10]\n",
        "  if mazo=='hot_deck':\n",
        "    return hot_deck\n",
        "  elif mazo == \"cold_deck\":\n",
        "     return cold_deck\n",
        "  elif mazo == \"cold_poker \":\n",
        "    return cold_poker \n",
        "  else:\n",
        "        return cold_barajaEspanola"
      ],
      "execution_count": 9,
      "outputs": []
    },
    {
      "cell_type": "code",
      "metadata": {
        "id": "LHwIB83Ddj6t",
        "colab_type": "code",
        "colab": {}
      },
      "source": [
        "def experimento(deck,rango):\n",
        "  resultado=0\n",
        "  histograma=[]\n",
        "  for i in range(rango):\n",
        "    if deck=='hot_deck' or deck=='cold_deck':\n",
        "      puntos=19\n",
        "    else: puntos=0\n",
        "    cartasSacadas = 0\n",
        "    mazo=inicializar(deck)\n",
        "    while puntos<=21:\n",
        "      random.shuffle(mazo)\n",
        "      carta_que_sale = mazo[0]\n",
        "      puntos=puntos + carta_que_sale\n",
        "      mazo.pop(0)\n",
        "      cartasSacadas += 1\n",
        "      if puntos >=21:\n",
        "        break\n",
        "    if puntos == 21:\n",
        "      resultado=resultado+1\n",
        "      histograma.append(cartasSacadas)\n",
        "      \n",
        "  \n",
        "  probabilidad=resultado/rango\n",
        "  return (histograma, resultado,probabilidad)\n",
        " "
      ],
      "execution_count": 10,
      "outputs": []
    },
    {
      "cell_type": "code",
      "metadata": {
        "id": "MYlGsWBgdsIa",
        "colab_type": "code",
        "colab": {
          "base_uri": "https://localhost:8080/",
          "height": 353
        },
        "outputId": "9b1c460b-068a-455c-c6bc-38fdcb633f66"
      },
      "source": [
        "#Experimento 4.1\n",
        "(histograma, resultado,probabilidad)=experimento('hot_deck',10000)\n",
        "print('probabilidad = ',probabilidad)\n",
        "plt.hist(histograma)"
      ],
      "execution_count": 11,
      "outputs": [
        {
          "output_type": "stream",
          "text": [
            "probabilidad =  0.5347\n"
          ],
          "name": "stdout"
        },
        {
          "output_type": "execute_result",
          "data": {
            "text/plain": [
              "(array([4006.,    0.,    0.,    0.,    0.,    0.,    0.,    0.,    0.,\n",
              "        1341.]),\n",
              " array([1. , 1.1, 1.2, 1.3, 1.4, 1.5, 1.6, 1.7, 1.8, 1.9, 2. ]),\n",
              " <a list of 10 Patch objects>)"
            ]
          },
          "metadata": {
            "tags": []
          },
          "execution_count": 11
        },
        {
          "output_type": "display_data",
          "data": {
            "image/png": "[encoded data removed]",
            "text/plain": [
              "<Figure size 432x288 with 1 Axes>"
            ]
          },
          "metadata": {
            "tags": [],
            "needs_background": "light"
          }
        }
      ]
    },
    {
      "cell_type": "code",
      "metadata": {
        "id": "qyR9rZ8TdxBs",
        "colab_type": "code",
        "colab": {
          "base_uri": "https://localhost:8080/",
          "height": 34
        },
        "outputId": "77273c2c-4e07-4695-8988-ef8373757a01"
      },
      "source": [
        "# Experimento 4.2\n",
        "(histograma, resultado,probabilidad)=experimento('cold_deck',10000)\n",
        "print('probabilidad = ',probabilidad)"
      ],
      "execution_count": 12,
      "outputs": [
        {
          "output_type": "stream",
          "text": [
            "probabilidad =  0.0\n"
          ],
          "name": "stdout"
        }
      ]
    },
    {
      "cell_type": "code",
      "metadata": {
        "id": "Q8UvuZDbRQ7A",
        "colab_type": "code",
        "colab": {
          "base_uri": "https://localhost:8080/",
          "height": 282
        },
        "outputId": "e4c60550-ac56-4030-f2ff-eb6107c48d2f"
      },
      "source": [
        "# Experimento 5 con poker\n",
        "gano_acumulado=0\n",
        "perdio_acumulado=0\n",
        "rango=10000\n",
        "for i in range(rango):\n",
        "  (histograma_1,resultado,probabilidad)=experimento('hot_deck',60)\n",
        "  gano_hot=resultado*1000\n",
        "  perdio_hot=(60-resultado)*1000\n",
        "  (histograma_2,resultado,probabilidad)=experimento('cold_poker',540)\n",
        "  gano_cold=resultado*10\n",
        "  perdio_cold=(540-resultado)*10\n",
        "  gano=gano_hot+gano_cold\n",
        "  perdio=perdio_hot+perdio_cold\n",
        "  gano_acumulado=gano_acumulado+gano\n",
        "  perdio_acumulado=perdio_acumulado+perdio\n",
        "  \n",
        "histograma_3=histograma_1+histograma_2\n",
        "plt.hist(histograma_3)\n",
        "  \n",
        "gano_promedio = gano_acumulado/rango\n",
        "perdio_promedio = perdio_acumulado/rango\n",
        "print('ganancia_total=',gano_promedio-perdio_promedio)\n"
      ],
      "execution_count": 32,
      "outputs": [
        {
          "output_type": "stream",
          "text": [
            "ganancia_total= 423.2559999999976\n"
          ],
          "name": "stdout"
        },
        {
          "output_type": "display_data",
          "data": {
            "image/png": "[encoded data removed]",
            "text/plain": [
              "<Figure size 432x288 with 1 Axes>"
            ]
          },
          "metadata": {
            "tags": [],
            "needs_background": "light"
          }
        }
      ]
    },
    {
      "cell_type": "code",
      "metadata": {
        "id": "iYc7KF8qzSzB",
        "colab_type": "code",
        "colab": {
          "base_uri": "https://localhost:8080/",
          "height": 282
        },
        "outputId": "06b59412-1f07-4244-adda-bc84f3d25a95"
      },
      "source": [
        "# Experimento 5 con Baraja esppañola\n",
        "gano_acumulado=0\n",
        "perdio_acumulado=0\n",
        "rango=10000\n",
        "for i in range(rango):\n",
        "  (histograma_1,resultado,probabilidad)=experimento('hot_deck',60)\n",
        "  gano_hot=resultado*1000\n",
        "  perdio_hot=(60-resultado)*1000\n",
        "  (histograma_2,resultado,probabilidad)=experimento('cold_barajaEspanola',540)\n",
        "  gano_cold=resultado*10\n",
        "  perdio_cold=(540-resultado)*10\n",
        "  gano=gano_hot+gano_cold\n",
        "  perdio=perdio_hot+perdio_cold\n",
        "  gano_acumulado=gano_acumulado+gano\n",
        "  perdio_acumulado=perdio_acumulado+perdio\n",
        "  \n",
        "histograma_3=histograma_1+histograma_2\n",
        "plt.hist(histograma_3)\n",
        "  \n",
        "gano_promedio = gano_acumulado/rango\n",
        "perdio_promedio = perdio_acumulado/rango\n",
        "print('ganancia_total=',gano_promedio-perdio_promedio)"
      ],
      "execution_count": 62,
      "outputs": [
        {
          "output_type": "stream",
          "text": [
            "ganancia_total= 343.5\n"
          ],
          "name": "stdout"
        },
        {
          "output_type": "display_data",
          "data": {
            "image/png": "[encoded data removed]",
            "text/plain": [
              "<Figure size 432x288 with 1 Axes>"
            ]
          },
          "metadata": {
            "tags": [],
            "needs_background": "light"
          }
        }
      ]
    }
  ]
}